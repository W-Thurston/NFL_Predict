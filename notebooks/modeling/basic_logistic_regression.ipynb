{
 "cells": [
  {
   "cell_type": "code",
   "execution_count": 2,
   "metadata": {},
   "outputs": [],
   "source": [
    "import pandas as pd\n",
    "\n",
    "from sklearn.linear_model import LogisticRegression\n",
    "from sklearn.model_selection import train_test_split"
   ]
  },
  {
   "cell_type": "code",
   "execution_count": 2,
   "metadata": {},
   "outputs": [
    {
     "data": {
      "text/html": [
       "<div>\n",
       "<style scoped>\n",
       "    .dataframe tbody tr th:only-of-type {\n",
       "        vertical-align: middle;\n",
       "    }\n",
       "\n",
       "    .dataframe tbody tr th {\n",
       "        vertical-align: top;\n",
       "    }\n",
       "\n",
       "    .dataframe thead th {\n",
       "        text-align: right;\n",
       "    }\n",
       "</style>\n",
       "<table border=\"1\" class=\"dataframe\">\n",
       "  <thead>\n",
       "    <tr style=\"text-align: right;\">\n",
       "      <th></th>\n",
       "      <th>TEAM_A</th>\n",
       "      <th>TEAM_B</th>\n",
       "      <th>YEAR</th>\n",
       "      <th>WEEK_NUM</th>\n",
       "      <th>RESULT</th>\n",
       "      <th>TEAM_A_ELO</th>\n",
       "      <th>TEAM_B_ELO</th>\n",
       "      <th>HOME_FIELD</th>\n",
       "      <th>TEAM_A_KM_TRAVELED</th>\n",
       "      <th>TEAM_A_TZ_TRAVELED</th>\n",
       "    </tr>\n",
       "  </thead>\n",
       "  <tbody>\n",
       "    <tr>\n",
       "      <th>0</th>\n",
       "      <td>Arizona Cardinals</td>\n",
       "      <td>Los Angeles Rams</td>\n",
       "      <td>1991-1992</td>\n",
       "      <td>1</td>\n",
       "      <td>1</td>\n",
       "      <td>1500.0</td>\n",
       "      <td>1500.0</td>\n",
       "      <td>0</td>\n",
       "      <td>553.672248</td>\n",
       "      <td>0</td>\n",
       "    </tr>\n",
       "    <tr>\n",
       "      <th>1</th>\n",
       "      <td>Atlanta Falcons</td>\n",
       "      <td>Kansas City Chiefs</td>\n",
       "      <td>1991-1992</td>\n",
       "      <td>1</td>\n",
       "      <td>0</td>\n",
       "      <td>1500.0</td>\n",
       "      <td>1500.0</td>\n",
       "      <td>0</td>\n",
       "      <td>1079.388631</td>\n",
       "      <td>100</td>\n",
       "    </tr>\n",
       "    <tr>\n",
       "      <th>2</th>\n",
       "      <td>Buffalo Bills</td>\n",
       "      <td>Miami Dolphins</td>\n",
       "      <td>1991-1992</td>\n",
       "      <td>1</td>\n",
       "      <td>1</td>\n",
       "      <td>1500.0</td>\n",
       "      <td>1500.0</td>\n",
       "      <td>1</td>\n",
       "      <td>0.000000</td>\n",
       "      <td>0</td>\n",
       "    </tr>\n",
       "    <tr>\n",
       "      <th>3</th>\n",
       "      <td>Chicago Bears</td>\n",
       "      <td>Minnesota Vikings</td>\n",
       "      <td>1991-1992</td>\n",
       "      <td>1</td>\n",
       "      <td>1</td>\n",
       "      <td>1500.0</td>\n",
       "      <td>1500.0</td>\n",
       "      <td>1</td>\n",
       "      <td>0.000000</td>\n",
       "      <td>0</td>\n",
       "    </tr>\n",
       "    <tr>\n",
       "      <th>4</th>\n",
       "      <td>Cincinnati Bengals</td>\n",
       "      <td>Denver Broncos</td>\n",
       "      <td>1991-1992</td>\n",
       "      <td>1</td>\n",
       "      <td>0</td>\n",
       "      <td>1500.0</td>\n",
       "      <td>1500.0</td>\n",
       "      <td>0</td>\n",
       "      <td>1764.027331</td>\n",
       "      <td>200</td>\n",
       "    </tr>\n",
       "  </tbody>\n",
       "</table>\n",
       "</div>"
      ],
      "text/plain": [
       "               TEAM_A              TEAM_B       YEAR  WEEK_NUM  RESULT  \\\n",
       "0   Arizona Cardinals    Los Angeles Rams  1991-1992         1       1   \n",
       "1     Atlanta Falcons  Kansas City Chiefs  1991-1992         1       0   \n",
       "2       Buffalo Bills      Miami Dolphins  1991-1992         1       1   \n",
       "3       Chicago Bears   Minnesota Vikings  1991-1992         1       1   \n",
       "4  Cincinnati Bengals      Denver Broncos  1991-1992         1       0   \n",
       "\n",
       "   TEAM_A_ELO  TEAM_B_ELO  HOME_FIELD  TEAM_A_KM_TRAVELED  TEAM_A_TZ_TRAVELED  \n",
       "0      1500.0      1500.0           0          553.672248                   0  \n",
       "1      1500.0      1500.0           0         1079.388631                 100  \n",
       "2      1500.0      1500.0           1            0.000000                   0  \n",
       "3      1500.0      1500.0           1            0.000000                   0  \n",
       "4      1500.0      1500.0           0         1764.027331                 200  "
      ]
     },
     "execution_count": 2,
     "metadata": {},
     "output_type": "execute_result"
    }
   ],
   "source": [
    "model_data = pd.read_csv('../../data/modeling/modeling_file.csv')\n",
    "model_data.head()"
   ]
  },
  {
   "cell_type": "code",
   "execution_count": 3,
   "metadata": {},
   "outputs": [
    {
     "data": {
      "text/plain": [
       "Index(['TEAM_A', 'TEAM_B', 'YEAR', 'WEEK_NUM', 'RESULT', 'TEAM_A_ELO',\n",
       "       'TEAM_B_ELO', 'HOME_FIELD', 'TEAM_A_KM_TRAVELED', 'TEAM_A_TZ_TRAVELED'],\n",
       "      dtype='object')"
      ]
     },
     "execution_count": 3,
     "metadata": {},
     "output_type": "execute_result"
    }
   ],
   "source": [
    "model_data.columns"
   ]
  },
  {
   "cell_type": "code",
   "execution_count": 35,
   "metadata": {},
   "outputs": [],
   "source": [
    "x_train, x_test, y_train, y_test = train_test_split(model_data.loc[:,[  'WEEK_NUM', 'TEAM_A_ELO', 'TEAM_B_ELO', 'HOME_FIELD','TEAM_A_KM_TRAVELED', 'TEAM_A_TZ_TRAVELED']],\n",
    "                                                    model_data['RESULT'], test_size=0.25, random_state=123)"
   ]
  },
  {
   "cell_type": "code",
   "execution_count": 36,
   "metadata": {},
   "outputs": [],
   "source": [
    "## Instantiate LogisticRegression model\n",
    "logistic_regression = LogisticRegression()"
   ]
  },
  {
   "cell_type": "code",
   "execution_count": 37,
   "metadata": {},
   "outputs": [
    {
     "data": {
      "text/html": [
       "<style>#sk-container-id-2 {color: black;background-color: white;}#sk-container-id-2 pre{padding: 0;}#sk-container-id-2 div.sk-toggleable {background-color: white;}#sk-container-id-2 label.sk-toggleable__label {cursor: pointer;display: block;width: 100%;margin-bottom: 0;padding: 0.3em;box-sizing: border-box;text-align: center;}#sk-container-id-2 label.sk-toggleable__label-arrow:before {content: \"▸\";float: left;margin-right: 0.25em;color: #696969;}#sk-container-id-2 label.sk-toggleable__label-arrow:hover:before {color: black;}#sk-container-id-2 div.sk-estimator:hover label.sk-toggleable__label-arrow:before {color: black;}#sk-container-id-2 div.sk-toggleable__content {max-height: 0;max-width: 0;overflow: hidden;text-align: left;background-color: #f0f8ff;}#sk-container-id-2 div.sk-toggleable__content pre {margin: 0.2em;color: black;border-radius: 0.25em;background-color: #f0f8ff;}#sk-container-id-2 input.sk-toggleable__control:checked~div.sk-toggleable__content {max-height: 200px;max-width: 100%;overflow: auto;}#sk-container-id-2 input.sk-toggleable__control:checked~label.sk-toggleable__label-arrow:before {content: \"▾\";}#sk-container-id-2 div.sk-estimator input.sk-toggleable__control:checked~label.sk-toggleable__label {background-color: #d4ebff;}#sk-container-id-2 div.sk-label input.sk-toggleable__control:checked~label.sk-toggleable__label {background-color: #d4ebff;}#sk-container-id-2 input.sk-hidden--visually {border: 0;clip: rect(1px 1px 1px 1px);clip: rect(1px, 1px, 1px, 1px);height: 1px;margin: -1px;overflow: hidden;padding: 0;position: absolute;width: 1px;}#sk-container-id-2 div.sk-estimator {font-family: monospace;background-color: #f0f8ff;border: 1px dotted black;border-radius: 0.25em;box-sizing: border-box;margin-bottom: 0.5em;}#sk-container-id-2 div.sk-estimator:hover {background-color: #d4ebff;}#sk-container-id-2 div.sk-parallel-item::after {content: \"\";width: 100%;border-bottom: 1px solid gray;flex-grow: 1;}#sk-container-id-2 div.sk-label:hover label.sk-toggleable__label {background-color: #d4ebff;}#sk-container-id-2 div.sk-serial::before {content: \"\";position: absolute;border-left: 1px solid gray;box-sizing: border-box;top: 0;bottom: 0;left: 50%;z-index: 0;}#sk-container-id-2 div.sk-serial {display: flex;flex-direction: column;align-items: center;background-color: white;padding-right: 0.2em;padding-left: 0.2em;position: relative;}#sk-container-id-2 div.sk-item {position: relative;z-index: 1;}#sk-container-id-2 div.sk-parallel {display: flex;align-items: stretch;justify-content: center;background-color: white;position: relative;}#sk-container-id-2 div.sk-item::before, #sk-container-id-2 div.sk-parallel-item::before {content: \"\";position: absolute;border-left: 1px solid gray;box-sizing: border-box;top: 0;bottom: 0;left: 50%;z-index: -1;}#sk-container-id-2 div.sk-parallel-item {display: flex;flex-direction: column;z-index: 1;position: relative;background-color: white;}#sk-container-id-2 div.sk-parallel-item:first-child::after {align-self: flex-end;width: 50%;}#sk-container-id-2 div.sk-parallel-item:last-child::after {align-self: flex-start;width: 50%;}#sk-container-id-2 div.sk-parallel-item:only-child::after {width: 0;}#sk-container-id-2 div.sk-dashed-wrapped {border: 1px dashed gray;margin: 0 0.4em 0.5em 0.4em;box-sizing: border-box;padding-bottom: 0.4em;background-color: white;}#sk-container-id-2 div.sk-label label {font-family: monospace;font-weight: bold;display: inline-block;line-height: 1.2em;}#sk-container-id-2 div.sk-label-container {text-align: center;}#sk-container-id-2 div.sk-container {/* jupyter's `normalize.less` sets `[hidden] { display: none; }` but bootstrap.min.css set `[hidden] { display: none !important; }` so we also need the `!important` here to be able to override the default hidden behavior on the sphinx rendered scikit-learn.org. See: https://github.com/scikit-learn/scikit-learn/issues/21755 */display: inline-block !important;position: relative;}#sk-container-id-2 div.sk-text-repr-fallback {display: none;}</style><div id=\"sk-container-id-2\" class=\"sk-top-container\"><div class=\"sk-text-repr-fallback\"><pre>LogisticRegression()</pre><b>In a Jupyter environment, please rerun this cell to show the HTML representation or trust the notebook. <br />On GitHub, the HTML representation is unable to render, please try loading this page with nbviewer.org.</b></div><div class=\"sk-container\" hidden><div class=\"sk-item\"><div class=\"sk-estimator sk-toggleable\"><input class=\"sk-toggleable__control sk-hidden--visually\" id=\"sk-estimator-id-2\" type=\"checkbox\" checked><label for=\"sk-estimator-id-2\" class=\"sk-toggleable__label sk-toggleable__label-arrow\">LogisticRegression</label><div class=\"sk-toggleable__content\"><pre>LogisticRegression()</pre></div></div></div></div></div>"
      ],
      "text/plain": [
       "LogisticRegression()"
      ]
     },
     "execution_count": 37,
     "metadata": {},
     "output_type": "execute_result"
    }
   ],
   "source": [
    "## Train model\n",
    "logistic_regression.fit(x_train, y_train)"
   ]
  },
  {
   "cell_type": "code",
   "execution_count": 38,
   "metadata": {},
   "outputs": [],
   "source": [
    "y_pred = logistic_regression.predict(x_test)"
   ]
  },
  {
   "cell_type": "code",
   "execution_count": 39,
   "metadata": {},
   "outputs": [
    {
     "data": {
      "text/plain": [
       "array([[1321,  789],\n",
       "       [ 756, 1324]], dtype=int64)"
      ]
     },
     "execution_count": 39,
     "metadata": {},
     "output_type": "execute_result"
    }
   ],
   "source": [
    "from sklearn import metrics\n",
    "cnf_matrix = metrics.confusion_matrix(y_test, y_pred)\n",
    "cnf_matrix"
   ]
  },
  {
   "cell_type": "code",
   "execution_count": 40,
   "metadata": {},
   "outputs": [
    {
     "data": {
      "text/plain": [
       "array([[3965, 2305],\n",
       "       [2287, 4013]], dtype=int64)"
      ]
     },
     "execution_count": 40,
     "metadata": {},
     "output_type": "execute_result"
    }
   ],
   "source": [
    "metrics.confusion_matrix(y_train, logistic_regression.predict(x_train))"
   ]
  },
  {
   "cell_type": "code",
   "execution_count": 41,
   "metadata": {},
   "outputs": [
    {
     "data": {
      "text/plain": [
       "Text(0.5, 427.9555555555555, 'Predicted label')"
      ]
     },
     "execution_count": 41,
     "metadata": {},
     "output_type": "execute_result"
    },
    {
     "data": {
      "image/png": "[encoded data removed]",
      "text/plain": [
       "<Figure size 640x480 with 2 Axes>"
      ]
     },
     "metadata": {},
     "output_type": "display_data"
    }
   ],
   "source": [
    "# import required modules\n",
    "import numpy as np\n",
    "import matplotlib.pyplot as plt\n",
    "import seaborn as sns\n",
    "\n",
    "class_names=[0,1] # name  of classes\n",
    "fig, ax = plt.subplots()\n",
    "tick_marks = np.arange(len(class_names))\n",
    "plt.xticks(tick_marks, class_names)\n",
    "plt.yticks(tick_marks, class_names)\n",
    "# create heatmap\n",
    "sns.heatmap(pd.DataFrame(cnf_matrix), annot=True, cmap=\"YlGnBu\" ,fmt='g')\n",
    "ax.xaxis.set_label_position(\"top\")\n",
    "plt.tight_layout()\n",
    "plt.title('Confusion matrix', y=1.1)\n",
    "plt.ylabel('Actual label')\n",
    "plt.xlabel('Predicted label')\n"
   ]
  },
  {
   "cell_type": "code",
   "execution_count": 42,
   "metadata": {},
   "outputs": [
    {
     "name": "stdout",
     "output_type": "stream",
     "text": [
      "              precision    recall  f1-score   support\n",
      "\n",
      "        Loss       0.64      0.63      0.63      2110\n",
      "         Win       0.63      0.64      0.63      2080\n",
      "\n",
      "    accuracy                           0.63      4190\n",
      "   macro avg       0.63      0.63      0.63      4190\n",
      "weighted avg       0.63      0.63      0.63      4190\n",
      "\n"
     ]
    }
   ],
   "source": [
    "from sklearn.metrics import classification_report\n",
    "target_names = ['Loss','Win']\n",
    "print(classification_report(y_test, y_pred, target_names=target_names))"
   ]
  },
  {
   "cell_type": "code",
   "execution_count": 43,
   "metadata": {},
   "outputs": [
    {
     "data": {
      "image/png": "[encoded data removed]",
      "text/plain": [
       "<Figure size 640x480 with 1 Axes>"
      ]
     },
     "metadata": {},
     "output_type": "display_data"
    }
   ],
   "source": [
    "y_pred_proba = logistic_regression.predict_proba(x_test)[::,1]\n",
    "fpr, tpr, _ = metrics.roc_curve(y_test,  y_pred_proba)\n",
    "auc = metrics.roc_auc_score(y_test, y_pred_proba)\n",
    "plt.plot(fpr,tpr,label=\"data 1, auc=\"+str(auc))\n",
    "plt.legend(loc=4)\n",
    "plt.show()"
   ]
  },
  {
   "cell_type": "code",
   "execution_count": 44,
   "metadata": {},
   "outputs": [],
   "source": [
    "full_data   = model_data.loc[:,[  'WEEK_NUM', 'TEAM_A_ELO','TEAM_B_ELO', 'HOME_FIELD','TEAM_A_KM_TRAVELED', 'TEAM_A_TZ_TRAVELED']]\n",
    "full_target = model_data['RESULT']\n",
    "\n",
    "full_pred = logistic_regression.predict(full_data)\n"
   ]
  },
  {
   "cell_type": "code",
   "execution_count": 54,
   "metadata": {},
   "outputs": [
    {
     "name": "stdout",
     "output_type": "stream",
     "text": [
      "              precision    recall  f1-score   support\n",
      "\n",
      "        Loss       0.63      0.63      0.63      8380\n",
      "         Win       0.63      0.64      0.63      8380\n",
      "\n",
      "    accuracy                           0.63     16760\n",
      "   macro avg       0.63      0.63      0.63     16760\n",
      "weighted avg       0.63      0.63      0.63     16760\n",
      "\n"
     ]
    }
   ],
   "source": [
    "from sklearn.metrics import classification_report\n",
    "target_names = ['Loss','Win']\n",
    "print(classification_report(full_target, full_pred, target_names=target_names))"
   ]
  },
  {
   "cell_type": "code",
   "execution_count": 45,
   "metadata": {},
   "outputs": [
    {
     "data": {
      "image/png": "[encoded data removed]",
      "text/plain": [
       "<Figure size 640x480 with 1 Axes>"
      ]
     },
     "metadata": {},
     "output_type": "display_data"
    }
   ],
   "source": [
    "y_pred_proba = logistic_regression.predict_proba(full_data)[::,1]\n",
    "fpr, tpr, _ = metrics.roc_curve(full_target,  y_pred_proba)\n",
    "auc = metrics.roc_auc_score(full_target, y_pred_proba)\n",
    "plt.plot(fpr,tpr,label=\"data 1, auc=\"+str(auc))\n",
    "plt.legend(loc=4)\n",
    "plt.show()"
   ]
  },
  {
   "cell_type": "code",
   "execution_count": 46,
   "metadata": {},
   "outputs": [
    {
     "name": "stdout",
     "output_type": "stream",
     "text": [
      "0.36170781128779866\n",
      "0.5988809813604665\n",
      "0.7436278020613764\n",
      "0.6853649287334833\n",
      "0.41447169095106173\n",
      "0.38307163626648427\n",
      "0.5709365827673121\n",
      "0.43690700493871526\n",
      "0.5486082962773529\n",
      "0.5216373135267345\n",
      "0.1994197210095056\n",
      "0.6288517635741047\n",
      "0.262171622746452\n",
      "0.5674494187427158\n",
      "0.44375323732195987\n",
      "0.8029186088285347\n",
      "0.4900547586455153\n",
      "0.5918507601625838\n",
      "0.4095295676150505\n",
      "0.40701789057294696\n",
      "0.6175839267418545\n",
      "0.488223481099813\n",
      "0.5940278733491949\n",
      "0.4537608251305804\n",
      "0.3222148564809711\n",
      "0.5188343406691241\n",
      "0.4898968133501887\n",
      "0.5036385820595527\n",
      "0.5963479248529366\n",
      "0.3839406960165056\n",
      "0.41453129765662106\n",
      "0.6408057044404695\n"
     ]
    }
   ],
   "source": [
    "for x in y_pred_proba[-32:]:\n",
    "    print(x)"
   ]
  },
  {
   "cell_type": "code",
   "execution_count": 49,
   "metadata": {},
   "outputs": [
    {
     "data": {
      "text/html": [
       "<div>\n",
       "<style scoped>\n",
       "    .dataframe tbody tr th:only-of-type {\n",
       "        vertical-align: middle;\n",
       "    }\n",
       "\n",
       "    .dataframe tbody tr th {\n",
       "        vertical-align: top;\n",
       "    }\n",
       "\n",
       "    .dataframe thead th {\n",
       "        text-align: right;\n",
       "    }\n",
       "</style>\n",
       "<table border=\"1\" class=\"dataframe\">\n",
       "  <thead>\n",
       "    <tr style=\"text-align: right;\">\n",
       "      <th></th>\n",
       "      <th>TEAM_A</th>\n",
       "      <th>TEAM_B</th>\n",
       "      <th>YEAR</th>\n",
       "      <th>WEEK_NUM</th>\n",
       "      <th>TEAM_A_ELO</th>\n",
       "      <th>TEAM_B_ELO</th>\n",
       "      <th>HOME_FIELD</th>\n",
       "      <th>TEAM_A_KM_TRAVELED</th>\n",
       "      <th>TEAM_A_TZ_TRAVELED</th>\n",
       "    </tr>\n",
       "  </thead>\n",
       "  <tbody>\n",
       "    <tr>\n",
       "      <th>0</th>\n",
       "      <td>Minnesota Vikings</td>\n",
       "      <td>Philadelphia Eagles</td>\n",
       "      <td>2023-2024</td>\n",
       "      <td>2</td>\n",
       "      <td>1503.637844</td>\n",
       "      <td>1539.332773</td>\n",
       "      <td>0</td>\n",
       "      <td>1587.362566</td>\n",
       "      <td>-100</td>\n",
       "    </tr>\n",
       "    <tr>\n",
       "      <th>1</th>\n",
       "      <td>Green Bay Packers</td>\n",
       "      <td>Atlanta Falcons</td>\n",
       "      <td>2023-2024</td>\n",
       "      <td>2</td>\n",
       "      <td>1513.203441</td>\n",
       "      <td>1451.719682</td>\n",
       "      <td>0</td>\n",
       "      <td>1233.934982</td>\n",
       "      <td>-100</td>\n",
       "    </tr>\n",
       "    <tr>\n",
       "      <th>2</th>\n",
       "      <td>Las Vegas Raiders</td>\n",
       "      <td>Buffalo Bills</td>\n",
       "      <td>2023-2024</td>\n",
       "      <td>2</td>\n",
       "      <td>1461.014692</td>\n",
       "      <td>1545.094810</td>\n",
       "      <td>0</td>\n",
       "      <td>3193.872906</td>\n",
       "      <td>-300</td>\n",
       "    </tr>\n",
       "    <tr>\n",
       "      <th>3</th>\n",
       "      <td>Baltimore Ravens</td>\n",
       "      <td>Cincinnati Bengals</td>\n",
       "      <td>2023-2024</td>\n",
       "      <td>2</td>\n",
       "      <td>1496.905936</td>\n",
       "      <td>1524.744956</td>\n",
       "      <td>0</td>\n",
       "      <td>682.047010</td>\n",
       "      <td>0</td>\n",
       "    </tr>\n",
       "    <tr>\n",
       "      <th>4</th>\n",
       "      <td>Seattle Seahawks</td>\n",
       "      <td>Detroit Lions</td>\n",
       "      <td>2023-2024</td>\n",
       "      <td>2</td>\n",
       "      <td>1468.978885</td>\n",
       "      <td>1462.540255</td>\n",
       "      <td>0</td>\n",
       "      <td>3119.153482</td>\n",
       "      <td>-300</td>\n",
       "    </tr>\n",
       "  </tbody>\n",
       "</table>\n",
       "</div>"
      ],
      "text/plain": [
       "              TEAM_A               TEAM_B       YEAR  WEEK_NUM   TEAM_A_ELO  \\\n",
       "0  Minnesota Vikings  Philadelphia Eagles  2023-2024         2  1503.637844   \n",
       "1  Green Bay Packers      Atlanta Falcons  2023-2024         2  1513.203441   \n",
       "2  Las Vegas Raiders        Buffalo Bills  2023-2024         2  1461.014692   \n",
       "3   Baltimore Ravens   Cincinnati Bengals  2023-2024         2  1496.905936   \n",
       "4   Seattle Seahawks        Detroit Lions  2023-2024         2  1468.978885   \n",
       "\n",
       "    TEAM_B_ELO  HOME_FIELD  TEAM_A_KM_TRAVELED  TEAM_A_TZ_TRAVELED  \n",
       "0  1539.332773           0         1587.362566                -100  \n",
       "1  1451.719682           0         1233.934982                -100  \n",
       "2  1545.094810           0         3193.872906                -300  \n",
       "3  1524.744956           0          682.047010                   0  \n",
       "4  1462.540255           0         3119.153482                -300  "
      ]
     },
     "execution_count": 49,
     "metadata": {},
     "output_type": "execute_result"
    }
   ],
   "source": [
    "df_to_predict = pd.read_csv('../../data/modeling/predict_next_week.csv')\n",
    "df_to_predict.head()"
   ]
  },
  {
   "cell_type": "code",
   "execution_count": 52,
   "metadata": {},
   "outputs": [],
   "source": [
    "y_pred_proba = logistic_regression.predict_proba(df_to_predict.loc[:,[  'WEEK_NUM', 'TEAM_A_ELO','TEAM_B_ELO', 'HOME_FIELD','TEAM_A_KM_TRAVELED', 'TEAM_A_TZ_TRAVELED']])[::,1]"
   ]
  },
  {
   "cell_type": "code",
   "execution_count": 53,
   "metadata": {},
   "outputs": [
    {
     "name": "stdout",
     "output_type": "stream",
     "text": [
      "0.3574737452935004\n",
      "0.5394992913239698\n",
      "0.2745807586184481\n",
      "0.3748198854051643\n",
      "0.4301601767499056\n",
      "0.4968220009094574\n",
      "0.659445826367894\n",
      "0.4372333229599297\n",
      "0.23880528427326342\n",
      "0.46938264626255716\n",
      "0.5653161202737695\n",
      "0.2560198482932596\n",
      "0.5336985538662379\n",
      "0.4483094678039101\n",
      "0.5471595568566705\n",
      "0.393379962876832\n",
      "0.6433207143485211\n",
      "0.4663402572447857\n",
      "0.722711953590025\n",
      "0.6301084046362432\n",
      "0.5703184295486774\n",
      "0.5166421104248127\n",
      "0.3421147246333281\n",
      "0.5642069360101241\n",
      "0.7669504324814377\n",
      "0.5347826320478013\n",
      "0.4397108459766681\n",
      "0.7464333638245617\n",
      "0.4730357998494801\n",
      "0.5555223067197129\n",
      "0.4618619265686036\n",
      "0.6160148195350905\n"
     ]
    }
   ],
   "source": [
    "for x in y_pred_proba:\n",
    "    print(x)"
   ]
  },
  {
   "cell_type": "code",
   "execution_count": 1,
   "metadata": {},
   "outputs": [
    {
     "ename": "SyntaxError",
     "evalue": "invalid syntax (812893942.py, line 1)",
     "output_type": "error",
     "traceback": [
      "\u001b[1;36m  Cell \u001b[1;32mIn [1], line 1\u001b[1;36m\u001b[0m\n\u001b[1;33m    ----------------------------------------\u001b[0m\n\u001b[1;37m                                            ^\u001b[0m\n\u001b[1;31mSyntaxError\u001b[0m\u001b[1;31m:\u001b[0m invalid syntax\n"
     ]
    }
   ],
   "source": [
    "----------------------------------------"
   ]
  },
  {
   "cell_type": "code",
   "execution_count": 28,
   "metadata": {},
   "outputs": [],
   "source": [
    "import pandas as pd\n",
    "\n",
    "from sklearn.linear_model import LogisticRegression\n",
    "from sklearn.neighbors import KNeighborsClassifier\n",
    "from sklearn.svm import SVC\n",
    "from sklearn.gaussian_process import GaussianProcessClassifier\n",
    "from sklearn.tree import DecisionTreeClassifier\n",
    "from sklearn.neural_network import MLPClassifier\n",
    "from sklearn.ensemble import AdaBoostClassifier, RandomForestClassifier\n",
    "from sklearn.naive_bayes import GaussianNB\n",
    "from sklearn.discriminant_analysis import QuadraticDiscriminantAnalysis\n",
    "\n",
    "from sklearn.gaussian_process.kernels import RBF\n",
    "from sklearn.preprocessing import StandardScaler\n",
    "from sklearn.model_selection import train_test_split\n",
    "from sklearn.pipeline import make_pipeline\n",
    "\n",
    "from sklearn import metrics"
   ]
  },
  {
   "cell_type": "code",
   "execution_count": 33,
   "metadata": {},
   "outputs": [],
   "source": [
    "classifiers = [\n",
    "    LogisticRegression(n_jobs=4),\n",
    "    KNeighborsClassifier(3, n_jobs=4),\n",
    "    SVC(kernel=\"linear\", C=0.025, probability=True),\n",
    "    SVC(gamma=2, C=1, probability=True),\n",
    "    #GaussianProcessClassifier(1.0 * RBF(1.0), n_jobs=5),\n",
    "    DecisionTreeClassifier(max_depth=5),\n",
    "    RandomForestClassifier(max_depth=5, n_estimators=10, max_features=1, n_jobs=4),\n",
    "    MLPClassifier(alpha=1, max_iter=1000),\n",
    "    AdaBoostClassifier(),\n",
    "    GaussianNB(),\n",
    "    QuadraticDiscriminantAnalysis(),\n",
    "]\n",
    "\n",
    "names = [\n",
    "    \"Logistic Regression\",\n",
    "    \"Nearest Neighbors\",\n",
    "    \"Linear SVM\",\n",
    "    \"RBF SVM\",\n",
    "    #\"Gaussian Process\",\n",
    "    \"Decision Tree\",\n",
    "    \"Random Forest\",\n",
    "    \"Neural Net\",\n",
    "    \"AdaBoost\",\n",
    "    \"Naive Bayes\",\n",
    "    \"QDA\",\n",
    "]\n"
   ]
  },
  {
   "cell_type": "code",
   "execution_count": 36,
   "metadata": {},
   "outputs": [],
   "source": [
    "model_data = pd.read_csv('../../data/modeling/modeling_file.csv')\n",
    "model_data.head()\n",
    "\n",
    "X_train, X_test, y_train, y_test = train_test_split(model_data.loc[:,[  'WEEK_NUM', 'TEAM_A_ELO', 'TEAM_B_ELO', 'HOME_FIELD','TEAM_A_KM_TRAVELED', 'TEAM_A_TZ_TRAVELED']],\n",
    "                                                    model_data['RESULT'], test_size=0.20, random_state=123)"
   ]
  },
  {
   "cell_type": "code",
   "execution_count": 37,
   "metadata": {},
   "outputs": [
    {
     "name": "stdout",
     "output_type": "stream",
     "text": [
      "Logistic Regression: \n",
      "\t> Accuracy: 63.07% \n",
      "\t> AUC     : 68.03%\n",
      "\n",
      "Nearest Neighbors: \n",
      "\t> Accuracy: 57.16% \n",
      "\t> AUC     : 59.20%\n",
      "\n",
      "Linear SVM: \n",
      "\t> Accuracy: 62.65% \n",
      "\t> AUC     : 68.01%\n",
      "\n",
      "RBF SVM: \n",
      "\t> Accuracy: 61.01% \n",
      "\t> AUC     : 63.70%\n",
      "\n",
      "Decision Tree: \n",
      "\t> Accuracy: 62.32% \n",
      "\t> AUC     : 66.86%\n",
      "\n",
      "Random Forest: \n",
      "\t> Accuracy: 61.87% \n",
      "\t> AUC     : 66.77%\n",
      "\n",
      "Neural Net: \n",
      "\t> Accuracy: 62.92% \n",
      "\t> AUC     : 68.04%\n",
      "\n",
      "AdaBoost: \n",
      "\t> Accuracy: 62.62% \n",
      "\t> AUC     : 67.25%\n",
      "\n",
      "Naive Bayes: \n",
      "\t> Accuracy: 61.52% \n",
      "\t> AUC     : 66.33%\n",
      "\n",
      "QDA: \n",
      "\t> Accuracy: 62.02% \n",
      "\t> AUC     : 66.69%\n",
      "\n"
     ]
    }
   ],
   "source": [
    "# iterate over classifiers\n",
    "for name, clf in zip(names, classifiers):\n",
    "\n",
    "    clf = make_pipeline(StandardScaler(), clf)\n",
    "    clf.fit(X_train, y_train)\n",
    "    \n",
    "    ## Accuracy\n",
    "    acc_score = clf.score(X_test, y_test)\n",
    "    \n",
    "    ## AUC\n",
    "    y_pred_proba = clf.predict_proba(X_test)[::,1]\n",
    "    auc = metrics.roc_auc_score(y_test, y_pred_proba)\n",
    "\n",
    "    print(f\"{name}: \\n\\t> Accuracy: {acc_score:.2%} \\n\\t> AUC     : {auc:.2%}\")\n",
    "    print()"
   ]
  },
  {
   "cell_type": "code",
   "execution_count": null,
   "metadata": {},
   "outputs": [],
   "source": []
  }
 ],
 "metadata": {
  "kernelspec": {
   "display_name": "Python 3",
   "language": "python",
   "name": "python3"
  },
  "language_info": {
   "codemirror_mode": {
    "name": "ipython",
    "version": 3
   },
   "file_extension": ".py",
   "mimetype": "text/x-python",
   "name": "python",
   "nbconvert_exporter": "python",
   "pygments_lexer": "ipython3",
   "version": "3.9.13"
  },
  "orig_nbformat": 4
 },
 "nbformat": 4,
 "nbformat_minor": 2
}
